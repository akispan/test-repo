{
  "nbformat": 4,
  "nbformat_minor": 0,
  "metadata": {
    "colab": {
      "name": "police.ipynb",
      "provenance": [],
      "collapsed_sections": [],
      "authorship_tag": "ABX9TyOjCvFbxFrF0dR7r02HwO07",
      "include_colab_link": true
    },
    "kernelspec": {
      "name": "python3",
      "display_name": "Python 3"
    },
    "language_info": {
      "name": "python"
    }
  },
  "cells": [
    {
      "cell_type": "markdown",
      "metadata": {
        "id": "view-in-github",
        "colab_type": "text"
      },
      "source": [
        "<a href=\"https://colab.research.google.com/github/akispan/test-repo/blob/main/police.ipynb\" target=\"_parent\"><img src=\"https://colab.research.google.com/assets/colab-badge.svg\" alt=\"Open In Colab\"/></a>"
      ]
    },
    {
      "cell_type": "code",
      "metadata": {
        "colab": {
          "base_uri": "https://localhost:8080/"
        },
        "id": "8Ffb0sprFmI0",
        "outputId": "5d7f8a46-4314-44cd-e7eb-5ffbb7e09be7"
      },
      "source": [
        "from google.colab import drive\n",
        "drive.mount('/content/drive/', force_remount=True)"
      ],
      "execution_count": null,
      "outputs": [
        {
          "output_type": "stream",
          "text": [
            "Mounted at /content/drive/\n"
          ],
          "name": "stdout"
        }
      ]
    },
    {
      "cell_type": "code",
      "metadata": {
        "id": "IdkeoefzFvWQ"
      },
      "source": [
        "import json\n",
        "\n",
        "with open('/content/drive/My Drive/data_for_colab/police/data.json') as f:\n",
        "    data = json.load(f)"
      ],
      "execution_count": null,
      "outputs": []
    },
    {
      "cell_type": "code",
      "metadata": {
        "colab": {
          "base_uri": "https://localhost:8080/"
        },
        "id": "I45SSuXdGLN6",
        "outputId": "cab9bd7f-017d-4e17-b1f9-de8c960f6b16"
      },
      "source": [
        "original_size = 0\n",
        "delete_size = 0\n",
        "for item in data:\n",
        "  for i in reversed(item[1]):\n",
        "    original_size += 1\n",
        "    if i['text'] == 'Δείτε τον πίνακα εδώ':\n",
        "      item[1].remove(i)\n",
        "      delete_size += 1\n",
        "print('Total   size :',original_size)\n",
        "print('Anused  size :',delete_size)\n",
        "print('Process size :',original_size - delete_size)"
      ],
      "execution_count": null,
      "outputs": [
        {
          "output_type": "stream",
          "text": [
            "Total   size : 1789\n",
            "Anused  size : 46\n",
            "Process size : 1743\n"
          ],
          "name": "stdout"
        }
      ]
    },
    {
      "cell_type": "code",
      "metadata": {
        "id": "wjb-WGG5D-GH"
      },
      "source": [
        "for month in data:\n",
        "\n",
        "    for report in month[1]:\n",
        "\n",
        "        if 'ΔΕΛΤΙΟ ΤΥΠΟΥ' in report['text']:\n",
        "            report['text'] = report['text'].split('ΔΕΛΤΙΟ ΤΥΠΟΥ')[1].strip()\n",
        "        elif 'ΑΝΑΚΟΙΝΩΣΗ' in report['text']:\n",
        "            report['text'] = report['text'].split('ΑΝΑΚΟΙΝΩΣΗ')[1].strip()"
      ],
      "execution_count": null,
      "outputs": []
    },
    {
      "cell_type": "code",
      "metadata": {
        "id": "J9BQOaawVKaI",
        "colab": {
          "base_uri": "https://localhost:8080/"
        },
        "outputId": "80b4f8d8-8ae9-4a24-baee-f2910aecabe5"
      },
      "source": [
        "!pip install spacy\n",
        "!pip install spacy download en_core_web_sm\n",
        "\n",
        "import pandas as pd\n",
        "from pprint import pprint\n",
        "from spacy.lang.el.examples import sentences \n",
        "from spacy import displacy\n",
        "from spacy.matcher import Matcher\n",
        "import spacy\n",
        "import spacy.cli\n",
        "from collections import defaultdict\n",
        "%matplotlib inline\n",
        "spacy.cli.download(\"el_core_news_sm\")"
      ],
      "execution_count": null,
      "outputs": [
        {
          "output_type": "stream",
          "text": [
            "Requirement already satisfied: spacy in /usr/local/lib/python3.7/dist-packages (2.2.4)\n",
            "Requirement already satisfied: plac<1.2.0,>=0.9.6 in /usr/local/lib/python3.7/dist-packages (from spacy) (1.1.3)\n",
            "Requirement already satisfied: thinc==7.4.0 in /usr/local/lib/python3.7/dist-packages (from spacy) (7.4.0)\n",
            "Requirement already satisfied: wasabi<1.1.0,>=0.4.0 in /usr/local/lib/python3.7/dist-packages (from spacy) (0.8.2)\n",
            "Requirement already satisfied: requests<3.0.0,>=2.13.0 in /usr/local/lib/python3.7/dist-packages (from spacy) (2.23.0)\n",
            "Requirement already satisfied: setuptools in /usr/local/lib/python3.7/dist-packages (from spacy) (54.2.0)\n",
            "Requirement already satisfied: numpy>=1.15.0 in /usr/local/lib/python3.7/dist-packages (from spacy) (1.19.5)\n",
            "Requirement already satisfied: srsly<1.1.0,>=1.0.2 in /usr/local/lib/python3.7/dist-packages (from spacy) (1.0.5)\n",
            "Requirement already satisfied: murmurhash<1.1.0,>=0.28.0 in /usr/local/lib/python3.7/dist-packages (from spacy) (1.0.5)\n",
            "Requirement already satisfied: cymem<2.1.0,>=2.0.2 in /usr/local/lib/python3.7/dist-packages (from spacy) (2.0.5)\n",
            "Requirement already satisfied: tqdm<5.0.0,>=4.38.0 in /usr/local/lib/python3.7/dist-packages (from spacy) (4.41.1)\n",
            "Requirement already satisfied: catalogue<1.1.0,>=0.0.7 in /usr/local/lib/python3.7/dist-packages (from spacy) (1.0.0)\n",
            "Requirement already satisfied: preshed<3.1.0,>=3.0.2 in /usr/local/lib/python3.7/dist-packages (from spacy) (3.0.5)\n",
            "Requirement already satisfied: blis<0.5.0,>=0.4.0 in /usr/local/lib/python3.7/dist-packages (from spacy) (0.4.1)\n",
            "Requirement already satisfied: idna<3,>=2.5 in /usr/local/lib/python3.7/dist-packages (from requests<3.0.0,>=2.13.0->spacy) (2.10)\n",
            "Requirement already satisfied: chardet<4,>=3.0.2 in /usr/local/lib/python3.7/dist-packages (from requests<3.0.0,>=2.13.0->spacy) (3.0.4)\n",
            "Requirement already satisfied: certifi>=2017.4.17 in /usr/local/lib/python3.7/dist-packages (from requests<3.0.0,>=2.13.0->spacy) (2020.12.5)\n",
            "Requirement already satisfied: urllib3!=1.25.0,!=1.25.1,<1.26,>=1.21.1 in /usr/local/lib/python3.7/dist-packages (from requests<3.0.0,>=2.13.0->spacy) (1.24.3)\n",
            "Requirement already satisfied: importlib-metadata>=0.20; python_version < \"3.8\" in /usr/local/lib/python3.7/dist-packages (from catalogue<1.1.0,>=0.0.7->spacy) (3.8.1)\n",
            "Requirement already satisfied: zipp>=0.5 in /usr/local/lib/python3.7/dist-packages (from importlib-metadata>=0.20; python_version < \"3.8\"->catalogue<1.1.0,>=0.0.7->spacy) (3.4.1)\n",
            "Requirement already satisfied: typing-extensions>=3.6.4; python_version < \"3.8\" in /usr/local/lib/python3.7/dist-packages (from importlib-metadata>=0.20; python_version < \"3.8\"->catalogue<1.1.0,>=0.0.7->spacy) (3.7.4.3)\n",
            "Requirement already satisfied: spacy in /usr/local/lib/python3.7/dist-packages (2.2.4)\n",
            "Collecting download\n",
            "  Downloading https://files.pythonhosted.org/packages/37/45/01e7455a9659528e77a414b222326d4c525796e4f571bbabcb2e0ff3d1f4/download-0.3.5-py3-none-any.whl\n",
            "Requirement already satisfied: en_core_web_sm in /usr/local/lib/python3.7/dist-packages (2.2.5)\n",
            "Requirement already satisfied: murmurhash<1.1.0,>=0.28.0 in /usr/local/lib/python3.7/dist-packages (from spacy) (1.0.5)\n",
            "Requirement already satisfied: tqdm<5.0.0,>=4.38.0 in /usr/local/lib/python3.7/dist-packages (from spacy) (4.41.1)\n",
            "Requirement already satisfied: preshed<3.1.0,>=3.0.2 in /usr/local/lib/python3.7/dist-packages (from spacy) (3.0.5)\n",
            "Requirement already satisfied: blis<0.5.0,>=0.4.0 in /usr/local/lib/python3.7/dist-packages (from spacy) (0.4.1)\n",
            "Requirement already satisfied: wasabi<1.1.0,>=0.4.0 in /usr/local/lib/python3.7/dist-packages (from spacy) (0.8.2)\n",
            "Requirement already satisfied: plac<1.2.0,>=0.9.6 in /usr/local/lib/python3.7/dist-packages (from spacy) (1.1.3)\n",
            "Requirement already satisfied: cymem<2.1.0,>=2.0.2 in /usr/local/lib/python3.7/dist-packages (from spacy) (2.0.5)\n",
            "Requirement already satisfied: numpy>=1.15.0 in /usr/local/lib/python3.7/dist-packages (from spacy) (1.19.5)\n",
            "Requirement already satisfied: requests<3.0.0,>=2.13.0 in /usr/local/lib/python3.7/dist-packages (from spacy) (2.23.0)\n",
            "Requirement already satisfied: srsly<1.1.0,>=1.0.2 in /usr/local/lib/python3.7/dist-packages (from spacy) (1.0.5)\n",
            "Requirement already satisfied: setuptools in /usr/local/lib/python3.7/dist-packages (from spacy) (54.2.0)\n",
            "Requirement already satisfied: thinc==7.4.0 in /usr/local/lib/python3.7/dist-packages (from spacy) (7.4.0)\n",
            "Requirement already satisfied: catalogue<1.1.0,>=0.0.7 in /usr/local/lib/python3.7/dist-packages (from spacy) (1.0.0)\n",
            "Requirement already satisfied: six in /usr/local/lib/python3.7/dist-packages (from download) (1.15.0)\n",
            "Requirement already satisfied: certifi>=2017.4.17 in /usr/local/lib/python3.7/dist-packages (from requests<3.0.0,>=2.13.0->spacy) (2020.12.5)\n",
            "Requirement already satisfied: chardet<4,>=3.0.2 in /usr/local/lib/python3.7/dist-packages (from requests<3.0.0,>=2.13.0->spacy) (3.0.4)\n",
            "Requirement already satisfied: urllib3!=1.25.0,!=1.25.1,<1.26,>=1.21.1 in /usr/local/lib/python3.7/dist-packages (from requests<3.0.0,>=2.13.0->spacy) (1.24.3)\n",
            "Requirement already satisfied: idna<3,>=2.5 in /usr/local/lib/python3.7/dist-packages (from requests<3.0.0,>=2.13.0->spacy) (2.10)\n",
            "Requirement already satisfied: importlib-metadata>=0.20; python_version < \"3.8\" in /usr/local/lib/python3.7/dist-packages (from catalogue<1.1.0,>=0.0.7->spacy) (3.8.1)\n",
            "Requirement already satisfied: typing-extensions>=3.6.4; python_version < \"3.8\" in /usr/local/lib/python3.7/dist-packages (from importlib-metadata>=0.20; python_version < \"3.8\"->catalogue<1.1.0,>=0.0.7->spacy) (3.7.4.3)\n",
            "Requirement already satisfied: zipp>=0.5 in /usr/local/lib/python3.7/dist-packages (from importlib-metadata>=0.20; python_version < \"3.8\"->catalogue<1.1.0,>=0.0.7->spacy) (3.4.1)\n",
            "Installing collected packages: download\n",
            "Successfully installed download-0.3.5\n",
            "\u001b[38;5;2m✔ Download and installation successful\u001b[0m\n",
            "You can now load the model via spacy.load('el_core_news_sm')\n"
          ],
          "name": "stdout"
        }
      ]
    },
    {
      "cell_type": "code",
      "metadata": {
        "id": "a1OE0ofNfUvP"
      },
      "source": [
        "'''\n",
        "def is_number(s):\n",
        "    try:\n",
        "        float(s)\n",
        "        return True\n",
        "    except ValueError:\n",
        "        return False\n",
        "\n",
        "def has_number(s):\n",
        "  for i in s.split():\n",
        "      if is_number(i):\n",
        "          return True\n",
        "  return False \n",
        "\n",
        "def get_capitalized(item):\n",
        "\n",
        "    letters = {'Ά':'Α','Έ':'Ε','Ή':'Η','Ί':'Ι','Ό':'Ο','Ύ':'Υ','Ώ':'Ω'}\n",
        "\n",
        "    item = item.upper()\n",
        "    for i in item:\n",
        "        if i in letters.keys():\n",
        "            item = item.replace(i, letters[i])\n",
        "    return item\n",
        "\n",
        "\n",
        "text = data[1][1][0]['text']\n",
        "\n",
        "nlp = spacy.load(\"el_core_news_sm\")\n",
        "doc = nlp(text)\n",
        "displacy.render(doc, style=\"ent\", jupyter=True)\n",
        "\n",
        "print(40 * '-')\n",
        "\n",
        "for ent in doc.ents:\n",
        "    print(ent.text, ent.label_)\n",
        "\n",
        "tokens = defaultdict(int)\n",
        "for ent in doc.ents:\n",
        "    entity = get_capitalized(ent.text)\n",
        "    tokens[(entity,ent.label_)] = 1\n",
        "'''"
      ],
      "execution_count": null,
      "outputs": []
    },
    {
      "cell_type": "code",
      "metadata": {
        "id": "RcWFUi431MQa"
      },
      "source": [
        "import json\n",
        "\n",
        "with open('/content/drive/My Drive/data_for_colab/police/tokens_keep.json') as f:\n",
        "    tokens_keep = json.load(f)\n",
        "with open('/content/drive/My Drive/data_for_colab/police/name_correction.json') as f:\n",
        "    name_correction = json.load(f)"
      ],
      "execution_count": null,
      "outputs": []
    },
    {
      "cell_type": "code",
      "metadata": {
        "colab": {
          "base_uri": "https://localhost:8080/"
        },
        "id": "fQkInA6PWVWM",
        "outputId": "75b88119-30e3-4fd8-b7ce-7218ed753613"
      },
      "source": [
        "from tqdm import tqdm\n",
        "\n",
        "def is_number(s):\n",
        "    try:\n",
        "        float(s)\n",
        "        return True\n",
        "    except ValueError:\n",
        "        return False\n",
        "\n",
        "def has_number(s):\n",
        "  for i in s:\n",
        "      if is_number(i):\n",
        "          return True\n",
        "  return False \n",
        "\n",
        "def get_capitalized(item):\n",
        "    letters = {'Ά':'Α','Έ':'Ε','Ή':'Η','Ί':'Ι','Ό':'Ο','Ύ':'Υ','Ώ':'Ω'}\n",
        "    item = item.upper()\n",
        "    for i in item:\n",
        "        if i in letters.keys():\n",
        "            item = item.replace(i, letters[i])\n",
        "    return item\n",
        "\n",
        "def get_tokens_from_text(mytext):\n",
        "    tokens = defaultdict(int)\n",
        "    nlp = spacy.load(\"el_core_news_sm\")\n",
        "    doc = nlp(mytext)\n",
        "    for ent in doc.ents:\n",
        "        if ent.label_ == 'GPE': \n",
        "            entity = get_capitalized(ent.text)\n",
        "            tokens[entity] = 1\n",
        "    return tokens\n",
        "\n",
        "\n",
        "print('--- Find Tokens extraction Started ---')\n",
        "\n",
        "tokens_dict = defaultdict(int)\n",
        "\n",
        "pbar = tqdm(data, total=len(data))\n",
        "for month in pbar:\n",
        "\n",
        "    tokens_per_month = defaultdict(int)\n",
        "    # print('month')\n",
        "    for report in month[1]:\n",
        "\n",
        "        text = report['text']\n",
        "        tokens = get_tokens_from_text(text)\n",
        "        # print(tokens)\n",
        "        for k in tokens:\n",
        "            if k in tokens_keep:\n",
        "                if k in name_correction:\n",
        "                    tokens_per_month[name_correction[k]] += 1  \n",
        "                else:\n",
        "                    tokens_per_month[k] += 1 \n",
        "    tokens_dict.update({month[0]: tokens_per_month})\n",
        "    # pprint(tokens_dict)\n",
        "    # print(40 * '-')"
      ],
      "execution_count": null,
      "outputs": [
        {
          "output_type": "stream",
          "text": [
            "\r  0%|          | 0/28 [00:00<?, ?it/s]"
          ],
          "name": "stderr"
        },
        {
          "output_type": "stream",
          "text": [
            "--- Find Tokens extraction Started ---\n"
          ],
          "name": "stdout"
        },
        {
          "output_type": "stream",
          "text": [
            "100%|██████████| 28/28 [10:57<00:00, 23.48s/it]\n"
          ],
          "name": "stderr"
        }
      ]
    },
    {
      "cell_type": "code",
      "metadata": {
        "id": "wLZSszypltmn"
      },
      "source": [
        "with open('/content/drive/My Drive/data_for_colab/police/tokens_dict.json', 'w') as json_file:\n",
        "    json.dump(tokens_dict, json_file)"
      ],
      "execution_count": null,
      "outputs": []
    },
    {
      "cell_type": "code",
      "metadata": {
        "id": "9KG9A2EajnB1"
      },
      "source": [
        "tokens = defaultdict(int)\n",
        "\n",
        "for res in tokens_dict.values():\n",
        "    # print(res)\n",
        "    for k, val in res.items():\n",
        "        tokens[k] += val"
      ],
      "execution_count": null,
      "outputs": []
    },
    {
      "cell_type": "code",
      "metadata": {
        "id": "PQlwbTXHMYW9"
      },
      "source": [
        "with open('/content/drive/My Drive/data_for_colab/police/tokens.json', 'w') as json_file:\n",
        "    json.dump(tokens, json_file)"
      ],
      "execution_count": null,
      "outputs": []
    },
    {
      "cell_type": "code",
      "metadata": {
        "id": "CZaRlO6kQNDp",
        "colab": {
          "base_uri": "https://localhost:8080/"
        },
        "outputId": "d0b42e01-9fb7-4de6-9e5d-852e62880c3f"
      },
      "source": [
        "!pip install geopandas\n",
        "!pip install geopy"
      ],
      "execution_count": null,
      "outputs": [
        {
          "output_type": "stream",
          "text": [
            "Collecting geopandas\n",
            "\u001b[?25l  Downloading https://files.pythonhosted.org/packages/d7/bf/e9cefb69d39155d122b6ddca53893b61535fa6ffdad70bf5ef708977f53f/geopandas-0.9.0-py2.py3-none-any.whl (994kB)\n",
            "\u001b[K     |████████████████████████████████| 1.0MB 16.1MB/s \n",
            "\u001b[?25hCollecting fiona>=1.8\n",
            "\u001b[?25l  Downloading https://files.pythonhosted.org/packages/ea/2a/404b22883298a3efe9c6ef8d67acbf2c38443fa366ee9cd4cd34e17626ea/Fiona-1.8.19-cp37-cp37m-manylinux1_x86_64.whl (15.3MB)\n",
            "\u001b[K     |████████████████████████████████| 15.3MB 276kB/s \n",
            "\u001b[?25hRequirement already satisfied: shapely>=1.6 in /usr/local/lib/python3.7/dist-packages (from geopandas) (1.7.1)\n",
            "Requirement already satisfied: pandas>=0.24.0 in /usr/local/lib/python3.7/dist-packages (from geopandas) (1.1.5)\n",
            "Collecting pyproj>=2.2.0\n",
            "\u001b[?25l  Downloading https://files.pythonhosted.org/packages/b1/72/d52e9ca81caef056062d71991b0e9b1d16af042245627c5d0e4916a36c4f/pyproj-3.0.1-cp37-cp37m-manylinux2010_x86_64.whl (6.5MB)\n",
            "\u001b[K     |████████████████████████████████| 6.5MB 36.4MB/s \n",
            "\u001b[?25hRequirement already satisfied: attrs>=17 in /usr/local/lib/python3.7/dist-packages (from fiona>=1.8->geopandas) (20.3.0)\n",
            "Collecting munch\n",
            "  Downloading https://files.pythonhosted.org/packages/cc/ab/85d8da5c9a45e072301beb37ad7f833cd344e04c817d97e0cc75681d248f/munch-2.5.0-py2.py3-none-any.whl\n",
            "Requirement already satisfied: click<8,>=4.0 in /usr/local/lib/python3.7/dist-packages (from fiona>=1.8->geopandas) (7.1.2)\n",
            "Collecting click-plugins>=1.0\n",
            "  Downloading https://files.pythonhosted.org/packages/e9/da/824b92d9942f4e472702488857914bdd50f73021efea15b4cad9aca8ecef/click_plugins-1.1.1-py2.py3-none-any.whl\n",
            "Requirement already satisfied: certifi in /usr/local/lib/python3.7/dist-packages (from fiona>=1.8->geopandas) (2020.12.5)\n",
            "Collecting cligj>=0.5\n",
            "  Downloading https://files.pythonhosted.org/packages/42/1e/947eadf10d6804bf276eb8a038bd5307996dceaaa41cfd21b7a15ec62f5d/cligj-0.7.1-py3-none-any.whl\n",
            "Requirement already satisfied: six>=1.7 in /usr/local/lib/python3.7/dist-packages (from fiona>=1.8->geopandas) (1.15.0)\n",
            "Requirement already satisfied: python-dateutil>=2.7.3 in /usr/local/lib/python3.7/dist-packages (from pandas>=0.24.0->geopandas) (2.8.1)\n",
            "Requirement already satisfied: numpy>=1.15.4 in /usr/local/lib/python3.7/dist-packages (from pandas>=0.24.0->geopandas) (1.19.5)\n",
            "Requirement already satisfied: pytz>=2017.2 in /usr/local/lib/python3.7/dist-packages (from pandas>=0.24.0->geopandas) (2018.9)\n",
            "Installing collected packages: munch, click-plugins, cligj, fiona, pyproj, geopandas\n",
            "Successfully installed click-plugins-1.1.1 cligj-0.7.1 fiona-1.8.19 geopandas-0.9.0 munch-2.5.0 pyproj-3.0.1\n",
            "Requirement already satisfied: geopy in /usr/local/lib/python3.7/dist-packages (1.17.0)\n",
            "Requirement already satisfied: geographiclib<2,>=1.49 in /usr/local/lib/python3.7/dist-packages (from geopy) (1.50)\n"
          ],
          "name": "stdout"
        }
      ]
    },
    {
      "cell_type": "code",
      "metadata": {
        "colab": {
          "base_uri": "https://localhost:8080/"
        },
        "id": "Oh9lAhiYrUHV",
        "outputId": "ca359856-5e14-4ed1-e067-39c8d037997a"
      },
      "source": [
        "import geopandas\n",
        "import geopy\n",
        "from geopy import Nominatim\n",
        "\n",
        "locator = Nominatim(user_agent='myGeocoder')\n",
        "\n",
        "location = locator.geocode('ΝΙΚΑΙΑ ΑΤΤΙΚΗΣ')\n",
        "  \n",
        "# latitude.append(location.latitude)\n",
        "# longitude.append(location.longitude)\n",
        "print('Latitude, Longitude : {} {}'.format(location.latitude, location.longitude))"
      ],
      "execution_count": null,
      "outputs": [
        {
          "output_type": "stream",
          "text": [
            "Latitude, Longitude : 37.9657507 23.6473298\n"
          ],
          "name": "stdout"
        }
      ]
    },
    {
      "cell_type": "code",
      "metadata": {
        "id": "_im8VaY6qQUv"
      },
      "source": [
        "import geopandas\n",
        "import geopy\n",
        "from geopy import Nominatim\n",
        "\n",
        "locator = Nominatim(user_agent='myGeocoder')\n",
        "\n",
        "latitude  = []\n",
        "longitude = []\n",
        "times     = []\n",
        "\n",
        "for loc in sorted(tokens.keys()):\n",
        "\n",
        "  # print(loc)\n",
        "  location = locator.geocode(loc)\n",
        "  \n",
        "  try:\n",
        "    latitude.append(location.latitude)\n",
        "    longitude.append(location.longitude)\n",
        "    times.append(tokens[loc])\n",
        "    # print('Latitude, Longitude : {} {}'.format(location.latitude, location.longitude))\n",
        "  except:\n",
        "    print(loc)\n",
        "  #   print('wrong name')\n",
        "  # print(40 * '-')\n"
      ],
      "execution_count": null,
      "outputs": []
    },
    {
      "cell_type": "code",
      "metadata": {
        "id": "zoFXXxMTr6Mx"
      },
      "source": [
        "with open('/content/drive/My Drive/data_for_colab/police/latitude.json', 'w') as json_file:\n",
        "    json.dump(latitude, json_file)\n",
        "with open('/content/drive/My Drive/data_for_colab/police/longitude.json', 'w') as json_file:\n",
        "    json.dump(longitude, json_file)\n",
        "with open('/content/drive/My Drive/data_for_colab/police/times.json', 'w') as json_file:\n",
        "    json.dump(times, json_file)"
      ],
      "execution_count": null,
      "outputs": []
    },
    {
      "cell_type": "code",
      "metadata": {
        "colab": {
          "base_uri": "https://localhost:8080/",
          "height": 1000
        },
        "id": "z_5lrI79kHG3",
        "outputId": "790c5a82-7a12-44d6-f22f-6ac572cb5e00"
      },
      "source": [
        "df = pd.DataFrame(zip(latitude, longitude, times), columns = ['Latitude', 'Longitude', 'Magnitude'])\n",
        "\n",
        "import pandas as pd\n",
        "import plotly.express as px\n",
        "\n",
        "fig = px.density_mapbox(df, lat='Latitude', lon='Longitude', z='Magnitude',\n",
        "                        color_continuous_midpoint = 0,\n",
        "                        radius=30,\n",
        "                        center=dict(lat=37.97728639084097, lon=23.726664468538466), \n",
        "                        zoom=6,\n",
        "                        width=1000,\n",
        "                        height=1000,\n",
        "                        mapbox_style=\"stamen-terrain\")\n",
        "\n",
        "fig.update_layout(margin=dict(b=0, t=0, l=0, r=0))\n",
        "fig.show()"
      ],
      "execution_count": null,
      "outputs": [
        {
          "output_type": "display_data",
          "data": {
            "text/html": [
              "<html>\n",
              "<head><meta charset=\"utf-8\" /></head>\n",
              "<body>\n",
              "    <div>\n",
              "            <script src=\"https://cdnjs.cloudflare.com/ajax/libs/mathjax/2.7.5/MathJax.js?config=TeX-AMS-MML_SVG\"></script><script type=\"text/javascript\">if (window.MathJax) {MathJax.Hub.Config({SVG: {font: \"STIX-Web\"}});}</script>\n",
              "                <script type=\"text/javascript\">window.PlotlyConfig = {MathJaxConfig: 'local'};</script>\n",
              "        <script src=\"https://cdn.plot.ly/plotly-latest.min.js\"></script>    \n",
              "            <div id=\"be4c3f05-c455-4f8c-871b-92d3b7d6a152\" class=\"plotly-graph-div\" style=\"height:1000px; width:1000px;\"></div>\n",
              "            <script type=\"text/javascript\">\n",
              "                \n",
              "                    window.PLOTLYENV=window.PLOTLYENV || {};\n",
              "                    \n",
              "                if (document.getElementById(\"be4c3f05-c455-4f8c-871b-92d3b7d6a152\")) {\n",
              "                    Plotly.newPlot(\n",
              "                        'be4c3f05-c455-4f8c-871b-92d3b7d6a152',\n",
              "                        [{\"coloraxis\": \"coloraxis\", \"hoverlabel\": {\"namelength\": 0}, \"hovertemplate\": \"Magnitude=%{z}<br>Latitude=%{lat}<br>Longitude=%{lon}\", \"lat\": [37.9030265, 38.1567569, 37.9861992, 37.9912514, 38.004232900000005, 38.0708545, 38.0254537, 38.011078, 38.46435715, 37.4035827, 37.9797499, 38.108845, 37.9839412, 37.9915665, 37.72436935, 37.9569684, 37.9718454, 37.97169955, 37.9492692, 37.9368628, 39.6146205, 37.9894032, 37.7375619, 39.6647843, 37.59814085, 37.9451873, 37.9688945, 37.9199542, 40.63677215, 39.6348084, 37.9741958, 37.9953356, 37.9054879, 38.0586212, 37.9946543, 38.0892299, 35.3337345, 38.2604428, 38.2056532, 38.08042245, 38.0304229, 37.90904, 37.98037275, 37.8333268, 37.8227124, 38.0824463, 38.0163523, 38.0894403, 37.8445048, 37.8893565, 37.9246195, 38.0675686, 38.03898665, 38.0194499, 38.0207306, 37.9726634, 37.9778249, 37.8849714, 37.9867003, 37.8615966, 37.9888214, 36.7601773, 37.9855214, 38.0874874, 37.9625901, 38.0727728, 37.9490926, 38.1518464, 38.1068395, 38.047608, 37.8802889, 37.9942563, 37.9776336, 38.49417235, 37.9797604, 38.0698218, 37.972443, 39.5045294, 37.9328597, 35.3400127, 38.0521571, 37.9858329, 38.0341017, 37.9750316, 35.3339878, 40.6403167, 38.3200705, 38.1294473, 38.07170175, 38.0067933, 38.0319662, 37.8169593, 37.958162, 37.0377582, 37.9560111, 37.9664604, 36.89140975, 38.2154016, 38.0119251, 38.0182179, 38.1607424, 37.8080995, 37.9650175, 37.9498731, 39.591337, 38.0915321, 38.015447, 37.9742849, 37.9769749, 38.0308267, 37.9386936, 37.9844029, 37.8997648, 37.9634559, 35.3084749, 38.0984676, 37.251085, 37.9960214, 37.9659422, 37.9593293, 38.9004584, 39.6383092, 37.712385, 37.8869988, 37.9417201, 38.0248447, 38.0167076, 38.0269398, 37.9818701, 38.0639183, 38.0624045, 38.1518464, 37.932052299999995, 38.2296503, 37.8828919, 38.0546653, 37.9919471, 37.9952543, 37.9726941, 37.9790317, 37.979732, 38.0650932, 38.851024, 37.9764307, 37.9535099, 39.1061204, 38.0881608, 38.03934295, 38.0867365, 37.9467441, 38.0494405, 38.0306737, 38.0047952, 37.9500017, 38.0483101, 37.9485711, 38.0056101, 37.9657507, 37.9841825, 37.9698825, 37.9538601, 37.9859919, 38.0042416, 37.96843565, 41.1468273, 38.0093652, 37.0651048, 38.0218018, 38.0229882, 38.246242, 37.9494767, 37.9660353, 38.0128111, 38.042469, 38.0014834, 37.9728505, 37.991390749999994, 38.0025155, 37.9884163, 37.9931743, 37.993151749999996, 38.07300745, 37.9853857, 37.98564065, 37.979406, 38.0096265, 37.509599699999995, 37.97693515, 38.0115751, 37.981805949999995, 37.8541296, 37.069496400000006, 37.97552895, 37.884096, 38.9589226, 38.0216884, 36.17262995, 37.965818, 37.9989424, 38.005786, 38.0482728, 37.9770782, 37.9877237, 37.9420145, 38.3279631, 38.0221347, 38.0215202, 38.3029045], \"lon\": [23.7454985, 23.961062, 23.7343484, 23.657423606379595, 23.823842387873196, 23.7504074, 23.7261438, 24.0118598, 23.596733395261374, 24.8792015, 23.7071165, 23.760765, 23.7283052, 23.6818754, 23.493810921233717, 23.6642485, 23.724766854756435, 23.726349600616587, 23.6374041, 23.6507592, 22.4326441, 23.761144280915644, 23.9521915, 20.7108294, 23.074921633219553, 23.6423865, 23.7380223, 23.027774, 22.938274926512577, 22.4314123, 24.0091361, 23.7897463, 22.8792778291471, 23.5892278, 23.79940251269328, 23.6241649, 25.1005971, 23.695361, 23.8364137, 23.7439989, 23.7287162, 23.7216039, 23.727624431788183, 23.8024356, 23.8022162, 23.7373556, 23.6879591, 23.7297825, 23.7708017, 23.7487893, 23.997034729484643, 23.7594354, 23.835381869390396, 23.75554650283589, 23.8602816, 23.6444832, 23.7138826, 23.9427359, 23.8474897, 23.7545902, 23.77686476674405, 22.5654505, 23.7548322, 23.7529571, 23.7068927, 23.9317029, 23.6282598, 23.36725432105709, 23.8425642, 23.5348663, 23.7300062, 23.643233, 23.719309, 23.91108439913793, 23.7279166, 23.7168389, 23.7816048, 20.2650921, 23.772688903479665, 25.1343475, 23.769631516241496, 23.6598021, 23.6991745, 23.7404611, 25.1000791, 22.9352716, 23.3175613, 23.7573686, 23.532591617533825, 23.6521414, 23.7078788, 23.7745404, 23.799005456806853, 22.1109392, 23.7033792, 23.7379877, 22.997846933376692, 23.8771012, 23.7286253, 23.7355266, 24.0156001, 23.9772854, 23.6207952, 23.6293012, 19.859618918733858, 23.7912825, 23.719077, 23.2126157, 23.7408135, 23.8221369, 22.9280447, 23.6495008, 23.8736294, 23.7220234, 24.463320724202934, 23.7682301, 21.6690119, 23.7349087, 23.733142290762295, 23.7206735, 22.4341691, 22.4160706, 24.0559097, 23.7564456, 23.6974522, 23.6926393, 23.7204551, 23.4674228, 23.7432387, 23.788980232349598, 23.5205266, 23.36725432105709, 23.681115018276326, 23.839807, 23.932256, 23.8081533, 23.7324935, 23.3417858, 23.74082535, 23.7530087, 23.6433133, 23.76130140078424, 20.9441377, 23.7259053, 23.681799, 26.5538342, 23.81829, 23.757590861625644, 23.9774696, 23.7138357, 23.7423567, 23.7325832, 23.4226118, 23.7124053, 23.7661386, 23.6670955, 23.7822671, 23.6473298, 23.7283018, 23.7465995, 23.8524935, 23.7520875, 23.881354, 23.740398366417093, 24.9212804, 23.6514597, 25.1921674022054, 23.7352018, 23.7360636, 21.7350847, 23.6575105, 23.5691477, 23.6955137, 23.683763, 23.9496919, 23.7300556, 23.73187901256502, 23.7331064, 23.7254272, 23.7301714, 23.729631731638918, 23.70608516459631, 23.7310408, 23.72158045152291, 23.731134194252622, 23.7343973, 22.37484828255176, 23.74083532254675, 23.813555297861917, 23.727634823936317, 23.752400333759596, 22.43629960918367, 23.734830080440645, 24.0119007, 20.7496811, 24.0075165, 27.919418145633188, 23.4939232, 23.6432812, 23.712202, 23.6955525, 23.7340839, 23.7290657, 23.6597916, 23.536722, 23.7848706, 23.7984139, 23.7535388], \"name\": \"\", \"radius\": 30, \"subplot\": \"mapbox\", \"type\": \"densitymapbox\", \"z\": [22, 21, 78, 6, 28, 4, 5, 1, 2, 15, 1, 2, 454, 37, 2, 1, 1, 23, 3, 1, 1, 8, 3, 2, 2, 1, 1, 1, 2, 3, 14, 1, 3, 29, 270, 5, 3, 1, 1, 33, 4, 1, 5, 2, 4, 1, 5, 1, 1, 1, 1, 1, 12, 15, 10, 1, 1, 1, 1, 55, 1, 1, 1, 1, 3, 12, 7, 1, 2, 27, 1, 1, 5, 3, 3, 10, 21, 3, 6, 4, 2, 3, 2, 2, 1, 16, 1, 1, 2, 6, 22, 2, 8, 1, 45, 2, 1, 5, 1, 1, 1, 3, 19, 3, 1, 21, 3, 1, 2, 5, 38, 3, 24, 1, 2, 3, 1, 33, 1, 1, 50, 2, 8, 1, 1, 1, 9, 1, 9, 1, 5, 1, 1, 3, 2, 19, 2, 3, 2, 1, 4, 3, 3, 3, 9, 1, 4, 11, 7, 24, 5, 2, 1, 7, 3, 1, 2, 7, 6, 8, 15, 1, 12, 1, 1, 1, 2, 15, 13, 5, 2, 1, 72, 16, 4, 2, 1, 7, 3, 3, 5, 3, 1, 1, 2, 1, 1, 1, 1, 2, 1, 18, 16, 1, 1, 11, 2, 9, 1, 2, 1, 1, 1, 1, 7, 1, 2, 3]}],\n",
              "                        {\"coloraxis\": {\"cmid\": 0, \"colorbar\": {\"title\": {\"text\": \"Magnitude\"}}, \"colorscale\": [[0.0, \"#0d0887\"], [0.1111111111111111, \"#46039f\"], [0.2222222222222222, \"#7201a8\"], [0.3333333333333333, \"#9c179e\"], [0.4444444444444444, \"#bd3786\"], [0.5555555555555556, \"#d8576b\"], [0.6666666666666666, \"#ed7953\"], [0.7777777777777778, \"#fb9f3a\"], [0.8888888888888888, \"#fdca26\"], [1.0, \"#f0f921\"]]}, \"height\": 1000, \"legend\": {\"tracegroupgap\": 0}, \"mapbox\": {\"center\": {\"lat\": 37.97728639084097, \"lon\": 23.726664468538466}, \"domain\": {\"x\": [0.0, 1.0], \"y\": [0.0, 1.0]}, \"style\": \"stamen-terrain\", \"zoom\": 6}, \"margin\": {\"b\": 0, \"l\": 0, \"r\": 0, \"t\": 0}, \"template\": {\"data\": {\"bar\": [{\"error_x\": {\"color\": \"#2a3f5f\"}, \"error_y\": {\"color\": \"#2a3f5f\"}, \"marker\": {\"line\": {\"color\": \"#E5ECF6\", \"width\": 0.5}}, \"type\": \"bar\"}], \"barpolar\": [{\"marker\": {\"line\": {\"color\": \"#E5ECF6\", \"width\": 0.5}}, \"type\": \"barpolar\"}], \"carpet\": [{\"aaxis\": {\"endlinecolor\": \"#2a3f5f\", \"gridcolor\": \"white\", \"linecolor\": \"white\", \"minorgridcolor\": \"white\", \"startlinecolor\": \"#2a3f5f\"}, \"baxis\": {\"endlinecolor\": \"#2a3f5f\", \"gridcolor\": \"white\", \"linecolor\": \"white\", \"minorgridcolor\": \"white\", \"startlinecolor\": \"#2a3f5f\"}, \"type\": \"carpet\"}], \"choropleth\": [{\"colorbar\": {\"outlinewidth\": 0, \"ticks\": \"\"}, \"type\": \"choropleth\"}], \"contour\": [{\"colorbar\": {\"outlinewidth\": 0, \"ticks\": \"\"}, \"colorscale\": [[0.0, \"#0d0887\"], [0.1111111111111111, \"#46039f\"], [0.2222222222222222, \"#7201a8\"], [0.3333333333333333, \"#9c179e\"], [0.4444444444444444, \"#bd3786\"], [0.5555555555555556, \"#d8576b\"], [0.6666666666666666, \"#ed7953\"], [0.7777777777777778, \"#fb9f3a\"], [0.8888888888888888, \"#fdca26\"], [1.0, \"#f0f921\"]], \"type\": \"contour\"}], \"contourcarpet\": [{\"colorbar\": {\"outlinewidth\": 0, \"ticks\": \"\"}, \"type\": \"contourcarpet\"}], \"heatmap\": [{\"colorbar\": {\"outlinewidth\": 0, \"ticks\": \"\"}, \"colorscale\": [[0.0, \"#0d0887\"], [0.1111111111111111, \"#46039f\"], [0.2222222222222222, \"#7201a8\"], [0.3333333333333333, \"#9c179e\"], [0.4444444444444444, \"#bd3786\"], [0.5555555555555556, \"#d8576b\"], [0.6666666666666666, \"#ed7953\"], [0.7777777777777778, \"#fb9f3a\"], [0.8888888888888888, \"#fdca26\"], [1.0, \"#f0f921\"]], \"type\": \"heatmap\"}], \"heatmapgl\": [{\"colorbar\": {\"outlinewidth\": 0, \"ticks\": \"\"}, \"colorscale\": [[0.0, \"#0d0887\"], [0.1111111111111111, \"#46039f\"], [0.2222222222222222, \"#7201a8\"], [0.3333333333333333, \"#9c179e\"], [0.4444444444444444, \"#bd3786\"], [0.5555555555555556, \"#d8576b\"], [0.6666666666666666, \"#ed7953\"], [0.7777777777777778, \"#fb9f3a\"], [0.8888888888888888, \"#fdca26\"], [1.0, \"#f0f921\"]], \"type\": \"heatmapgl\"}], \"histogram\": [{\"marker\": {\"colorbar\": {\"outlinewidth\": 0, \"ticks\": \"\"}}, \"type\": \"histogram\"}], \"histogram2d\": [{\"colorbar\": {\"outlinewidth\": 0, \"ticks\": \"\"}, \"colorscale\": [[0.0, \"#0d0887\"], [0.1111111111111111, \"#46039f\"], [0.2222222222222222, \"#7201a8\"], [0.3333333333333333, \"#9c179e\"], [0.4444444444444444, \"#bd3786\"], [0.5555555555555556, \"#d8576b\"], [0.6666666666666666, \"#ed7953\"], [0.7777777777777778, \"#fb9f3a\"], [0.8888888888888888, \"#fdca26\"], [1.0, \"#f0f921\"]], \"type\": \"histogram2d\"}], \"histogram2dcontour\": [{\"colorbar\": {\"outlinewidth\": 0, \"ticks\": \"\"}, \"colorscale\": [[0.0, \"#0d0887\"], [0.1111111111111111, \"#46039f\"], [0.2222222222222222, \"#7201a8\"], [0.3333333333333333, \"#9c179e\"], [0.4444444444444444, \"#bd3786\"], [0.5555555555555556, \"#d8576b\"], [0.6666666666666666, \"#ed7953\"], [0.7777777777777778, \"#fb9f3a\"], [0.8888888888888888, \"#fdca26\"], [1.0, \"#f0f921\"]], \"type\": \"histogram2dcontour\"}], \"mesh3d\": [{\"colorbar\": {\"outlinewidth\": 0, \"ticks\": \"\"}, \"type\": \"mesh3d\"}], \"parcoords\": [{\"line\": {\"colorbar\": {\"outlinewidth\": 0, \"ticks\": \"\"}}, \"type\": \"parcoords\"}], \"pie\": [{\"automargin\": true, \"type\": \"pie\"}], \"scatter\": [{\"marker\": {\"colorbar\": {\"outlinewidth\": 0, \"ticks\": \"\"}}, \"type\": \"scatter\"}], \"scatter3d\": [{\"line\": {\"colorbar\": {\"outlinewidth\": 0, \"ticks\": \"\"}}, \"marker\": {\"colorbar\": {\"outlinewidth\": 0, \"ticks\": \"\"}}, \"type\": \"scatter3d\"}], \"scattercarpet\": [{\"marker\": {\"colorbar\": {\"outlinewidth\": 0, \"ticks\": \"\"}}, \"type\": \"scattercarpet\"}], \"scattergeo\": [{\"marker\": {\"colorbar\": {\"outlinewidth\": 0, \"ticks\": \"\"}}, \"type\": \"scattergeo\"}], \"scattergl\": [{\"marker\": {\"colorbar\": {\"outlinewidth\": 0, \"ticks\": \"\"}}, \"type\": \"scattergl\"}], \"scattermapbox\": [{\"marker\": {\"colorbar\": {\"outlinewidth\": 0, \"ticks\": \"\"}}, \"type\": \"scattermapbox\"}], \"scatterpolar\": [{\"marker\": {\"colorbar\": {\"outlinewidth\": 0, \"ticks\": \"\"}}, \"type\": \"scatterpolar\"}], \"scatterpolargl\": [{\"marker\": {\"colorbar\": {\"outlinewidth\": 0, \"ticks\": \"\"}}, \"type\": \"scatterpolargl\"}], \"scatterternary\": [{\"marker\": {\"colorbar\": {\"outlinewidth\": 0, \"ticks\": \"\"}}, \"type\": \"scatterternary\"}], \"surface\": [{\"colorbar\": {\"outlinewidth\": 0, \"ticks\": \"\"}, \"colorscale\": [[0.0, \"#0d0887\"], [0.1111111111111111, \"#46039f\"], [0.2222222222222222, \"#7201a8\"], [0.3333333333333333, \"#9c179e\"], [0.4444444444444444, \"#bd3786\"], [0.5555555555555556, \"#d8576b\"], [0.6666666666666666, \"#ed7953\"], [0.7777777777777778, \"#fb9f3a\"], [0.8888888888888888, \"#fdca26\"], [1.0, \"#f0f921\"]], \"type\": \"surface\"}], \"table\": [{\"cells\": {\"fill\": {\"color\": \"#EBF0F8\"}, \"line\": {\"color\": \"white\"}}, \"header\": {\"fill\": {\"color\": \"#C8D4E3\"}, \"line\": {\"color\": \"white\"}}, \"type\": \"table\"}]}, \"layout\": {\"annotationdefaults\": {\"arrowcolor\": \"#2a3f5f\", \"arrowhead\": 0, \"arrowwidth\": 1}, \"coloraxis\": {\"colorbar\": {\"outlinewidth\": 0, \"ticks\": \"\"}}, \"colorscale\": {\"diverging\": [[0, \"#8e0152\"], [0.1, \"#c51b7d\"], [0.2, \"#de77ae\"], [0.3, \"#f1b6da\"], [0.4, \"#fde0ef\"], [0.5, \"#f7f7f7\"], [0.6, \"#e6f5d0\"], [0.7, \"#b8e186\"], [0.8, \"#7fbc41\"], [0.9, \"#4d9221\"], [1, \"#276419\"]], \"sequential\": [[0.0, \"#0d0887\"], [0.1111111111111111, \"#46039f\"], [0.2222222222222222, \"#7201a8\"], [0.3333333333333333, \"#9c179e\"], [0.4444444444444444, \"#bd3786\"], [0.5555555555555556, \"#d8576b\"], [0.6666666666666666, \"#ed7953\"], [0.7777777777777778, \"#fb9f3a\"], [0.8888888888888888, \"#fdca26\"], [1.0, \"#f0f921\"]], \"sequentialminus\": [[0.0, \"#0d0887\"], [0.1111111111111111, \"#46039f\"], [0.2222222222222222, \"#7201a8\"], [0.3333333333333333, \"#9c179e\"], [0.4444444444444444, \"#bd3786\"], [0.5555555555555556, \"#d8576b\"], [0.6666666666666666, \"#ed7953\"], [0.7777777777777778, \"#fb9f3a\"], [0.8888888888888888, \"#fdca26\"], [1.0, \"#f0f921\"]]}, \"colorway\": [\"#636efa\", \"#EF553B\", \"#00cc96\", \"#ab63fa\", \"#FFA15A\", \"#19d3f3\", \"#FF6692\", \"#B6E880\", \"#FF97FF\", \"#FECB52\"], \"font\": {\"color\": \"#2a3f5f\"}, \"geo\": {\"bgcolor\": \"white\", \"lakecolor\": \"white\", \"landcolor\": \"#E5ECF6\", \"showlakes\": true, \"showland\": true, \"subunitcolor\": \"white\"}, \"hoverlabel\": {\"align\": \"left\"}, \"hovermode\": \"closest\", \"mapbox\": {\"style\": \"light\"}, \"paper_bgcolor\": \"white\", \"plot_bgcolor\": \"#E5ECF6\", \"polar\": {\"angularaxis\": {\"gridcolor\": \"white\", \"linecolor\": \"white\", \"ticks\": \"\"}, \"bgcolor\": \"#E5ECF6\", \"radialaxis\": {\"gridcolor\": \"white\", \"linecolor\": \"white\", \"ticks\": \"\"}}, \"scene\": {\"xaxis\": {\"backgroundcolor\": \"#E5ECF6\", \"gridcolor\": \"white\", \"gridwidth\": 2, \"linecolor\": \"white\", \"showbackground\": true, \"ticks\": \"\", \"zerolinecolor\": \"white\"}, \"yaxis\": {\"backgroundcolor\": \"#E5ECF6\", \"gridcolor\": \"white\", \"gridwidth\": 2, \"linecolor\": \"white\", \"showbackground\": true, \"ticks\": \"\", \"zerolinecolor\": \"white\"}, \"zaxis\": {\"backgroundcolor\": \"#E5ECF6\", \"gridcolor\": \"white\", \"gridwidth\": 2, \"linecolor\": \"white\", \"showbackground\": true, \"ticks\": \"\", \"zerolinecolor\": \"white\"}}, \"shapedefaults\": {\"line\": {\"color\": \"#2a3f5f\"}}, \"ternary\": {\"aaxis\": {\"gridcolor\": \"white\", \"linecolor\": \"white\", \"ticks\": \"\"}, \"baxis\": {\"gridcolor\": \"white\", \"linecolor\": \"white\", \"ticks\": \"\"}, \"bgcolor\": \"#E5ECF6\", \"caxis\": {\"gridcolor\": \"white\", \"linecolor\": \"white\", \"ticks\": \"\"}}, \"title\": {\"x\": 0.05}, \"xaxis\": {\"automargin\": true, \"gridcolor\": \"white\", \"linecolor\": \"white\", \"ticks\": \"\", \"title\": {\"standoff\": 15}, \"zerolinecolor\": \"white\", \"zerolinewidth\": 2}, \"yaxis\": {\"automargin\": true, \"gridcolor\": \"white\", \"linecolor\": \"white\", \"ticks\": \"\", \"title\": {\"standoff\": 15}, \"zerolinecolor\": \"white\", \"zerolinewidth\": 2}}}, \"width\": 1000},\n",
              "                        {\"responsive\": true}\n",
              "                    ).then(function(){\n",
              "                            \n",
              "var gd = document.getElementById('be4c3f05-c455-4f8c-871b-92d3b7d6a152');\n",
              "var x = new MutationObserver(function (mutations, observer) {{\n",
              "        var display = window.getComputedStyle(gd).display;\n",
              "        if (!display || display === 'none') {{\n",
              "            console.log([gd, 'removed!']);\n",
              "            Plotly.purge(gd);\n",
              "            observer.disconnect();\n",
              "        }}\n",
              "}});\n",
              "\n",
              "// Listen for the removal of the full notebook cells\n",
              "var notebookContainer = gd.closest('#notebook-container');\n",
              "if (notebookContainer) {{\n",
              "    x.observe(notebookContainer, {childList: true});\n",
              "}}\n",
              "\n",
              "// Listen for the clearing of the current output cell\n",
              "var outputEl = gd.closest('.output');\n",
              "if (outputEl) {{\n",
              "    x.observe(outputEl, {childList: true});\n",
              "}}\n",
              "\n",
              "                        })\n",
              "                };\n",
              "                \n",
              "            </script>\n",
              "        </div>\n",
              "</body>\n",
              "</html>"
            ]
          },
          "metadata": {
            "tags": []
          }
        }
      ]
    },
    {
      "cell_type": "code",
      "metadata": {
        "id": "F9QQX0Tf6xO0"
      },
      "source": [
        "import json\n",
        "\n",
        "with open('/content/drive/My Drive/data_for_colab/police/data.json') as f:\n",
        "    data = json.load(f)\n",
        "with open('/content/drive/My Drive/data_for_colab/police/data.json') as f:\n",
        "    data = json.load(f)\n",
        "with open('/content/drive/My Drive/data_for_colab/police/data.json') as f:\n",
        "    data = json.load(f)\n",
        "with open('/content/drive/My Drive/data_for_colab/police/data.json') as f:\n",
        "    data = json.load(f)"
      ],
      "execution_count": null,
      "outputs": []
    },
    {
      "cell_type": "code",
      "metadata": {
        "colab": {
          "base_uri": "https://localhost:8080/"
        },
        "id": "kEWr2oh3z0pF",
        "outputId": "2ed24f18-c729-4c19-f145-fface47a3075"
      },
      "source": [
        "years = ['2019','2020','2021']\n",
        "months = ['Ιανουάριος ','Φεβρουάριος ','Μάρτιος ','Απρίλιος ','Μάιος ','Ιούνιος ','Ιούλιος ', 'Αύγουστος ','Σεπτέμβριος ','Οκτώβριος ','Νοέμβριος ','Δεκέμβριος ']\n",
        "\n",
        "dates = []          \n",
        "for year in years:\n",
        "  \n",
        "  if year == '2021':\n",
        "    for month in months[:4]:\n",
        "      dates.append(month + year)\n",
        "  else:\n",
        "    for month in months:\n",
        "      dates.append(month + year)\n",
        "dates"
      ],
      "execution_count": null,
      "outputs": [
        {
          "output_type": "execute_result",
          "data": {
            "text/plain": [
              "['Ιανουάριος 2019',\n",
              " 'Φεβρουάριος 2019',\n",
              " 'Μάρτιος 2019',\n",
              " 'Απρίλιος 2019',\n",
              " 'Μάιος 2019',\n",
              " 'Ιούνιος 2019',\n",
              " 'Ιούλιος 2019',\n",
              " 'Αύγουστος 2019',\n",
              " 'Σεπτέμβριος 2019',\n",
              " 'Οκτώβριος 2019',\n",
              " 'Νοέμβριος 2019',\n",
              " 'Δεκέμβριος 2019',\n",
              " 'Ιανουάριος 2020',\n",
              " 'Φεβρουάριος 2020',\n",
              " 'Μάρτιος 2020',\n",
              " 'Απρίλιος 2020',\n",
              " 'Μάιος 2020',\n",
              " 'Ιούνιος 2020',\n",
              " 'Ιούλιος 2020',\n",
              " 'Αύγουστος 2020',\n",
              " 'Σεπτέμβριος 2020',\n",
              " 'Οκτώβριος 2020',\n",
              " 'Νοέμβριος 2020',\n",
              " 'Δεκέμβριος 2020',\n",
              " 'Ιανουάριος 2021',\n",
              " 'Φεβρουάριος 2021',\n",
              " 'Μάρτιος 2021',\n",
              " 'Απρίλιος 2021']"
            ]
          },
          "metadata": {
            "tags": []
          },
          "execution_count": 15
        }
      ]
    },
    {
      "cell_type": "code",
      "metadata": {
        "id": "bNxSscljyk_o"
      },
      "source": [
        "areas = list(sorted(tokens))\n",
        "\n",
        "graph_data = {}\n",
        "\n",
        "for area in areas:\n",
        "\n",
        "    month_array = [0]*28\n",
        "\n",
        "    for i, date in zip(range(28), dates):\n",
        "        if area in tokens_dict[date]:\n",
        "            month_array[i] = tokens_dict[date][area]\n",
        "\n",
        "    graph_data.update({area:month_array})"
      ],
      "execution_count": null,
      "outputs": []
    },
    {
      "cell_type": "code",
      "metadata": {
        "colab": {
          "base_uri": "https://localhost:8080/"
        },
        "id": "o703RBJx9AtX",
        "outputId": "ea96f0c9-a9d2-4254-f7df-77ea4fd69fe9"
      },
      "source": [
        "tokens_dict['Απρίλιος 2020']"
      ],
      "execution_count": null,
      "outputs": [
        {
          "output_type": "execute_result",
          "data": {
            "text/plain": [
              "defaultdict(int,\n",
              "            {'Argiroupoli': 1,\n",
              "             'MARATHONAS': 1,\n",
              "             'PL. EXARCHION': 2,\n",
              "             'ΑΓΙΑ ΒΑΡΒΑΡΑ': 1,\n",
              "             'ΑΓΙΑ ΠΑΡΑΣΚΕΥΗ': 1,\n",
              "             'ΑΓΙΟΥ ΠΑΝΤΕΛΕΗΜΟΝΑ': 2,\n",
              "             'ΑΘΗΝΑ': 7,\n",
              "             'ΑΙΓΑΛΕΩ': 1,\n",
              "             'ΑΣΠΡΟΠΥΡΓΟΣ': 2,\n",
              "             'ΑΤΤΙΚΗ': 6,\n",
              "             'ΓΛΥΦΑΔΑ': 1,\n",
              "             'ΕΛΕΥΣΙΝΑ': 3,\n",
              "             'ΖΩΓΡΑΦΟΥ, ΑΘΗΝΑ': 2,\n",
              "             'ΚΑΛΛΙΘΕΑ': 3,\n",
              "             'ΚΗΦΙΣΙΑ': 1,\n",
              "             'ΚΟΡΙΝΘΟΣ': 3,\n",
              "             'ΜΑΝΔΡΑΣ-ΕΙΔΥΛΛΙΑΣ': 1,\n",
              "             'ΜΑΡΚΟΠΟΥΛΟ ΜΕΣΟΓΑΙΑΣ': 1,\n",
              "             'ΜΑΡΟΥΣΙ': 1,\n",
              "             'ΜΟΣΧΑΤΟ': 2,\n",
              "             'ΝΕΑ ΣΜΥΡΝΗ': 1,\n",
              "             'ΠΑΝΕΠΙΣΤΗΜΙΟΥΠΟΛΗ': 1,\n",
              "             'ΠΑΤΗΣΙΑ': 1,\n",
              "             'ΠΕΡΙΣΤΕΡΙ': 4,\n",
              "             'ΠΕΤΡΟΥΠΟΛΗ': 1})"
            ]
          },
          "metadata": {
            "tags": []
          },
          "execution_count": 28
        }
      ]
    },
    {
      "cell_type": "code",
      "metadata": {
        "colab": {
          "base_uri": "https://localhost:8080/",
          "height": 585
        },
        "id": "JCEm0UV776AE",
        "outputId": "ac85d52f-20ef-4786-fe9e-d7856f018758"
      },
      "source": [
        "import matplotlib\n",
        "import matplotlib.pyplot as plt\n",
        "\n",
        "def plot_line(dates, graph_data, area):\n",
        "  \n",
        "  plt.rcParams[\"figure.figsize\"] = (20,10)\n",
        "  plt.rcParams[\"axes.grid\"] = True\n",
        "  matplotlib.rc('xtick', labelsize=15) \n",
        "  matplotlib.rc('ytick', labelsize=15) \n",
        "  fig, ax = plt.subplots()\n",
        "  fig.suptitle('Γραφημα ανα μήνα για την περιοχη {}'.format(area), fontsize=16)\n",
        "  plt.xlabel('μήνες', fontsize=16)\n",
        "  plt.ylabel('εμφανίσεις', fontsize=16)\n",
        "  ndx = [x for x in range (len(dates))]\n",
        "  plt.xticks(ndx, dates, rotation='vertical')\n",
        "  plt.plot( dates , graph_data)\n",
        "  # plt.legend(shadow=True, fontsize=\"large\", loc=\"best\")\n",
        "  # plt.ylim(0,1.1)   #  creates y scale from 0 to 1\n",
        "  plt.show()\n",
        "\n",
        "\n",
        "plot_line(dates, graph_data['ΑΘΗΝΑ'], 'ΑΘΗΝΑ')"
      ],
      "execution_count": null,
      "outputs": [
        {
          "output_type": "display_data",
          "data": {
            "image/png": "[encoded data removed]",
            "text/plain": [
              "<Figure size 1440x720 with 1 Axes>"
            ]
          },
          "metadata": {
            "tags": [],
            "needs_background": "light"
          }
        }
      ]
    }
  ]
}